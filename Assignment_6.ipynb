{
  "nbformat": 4,
  "nbformat_minor": 0,
  "metadata": {
    "colab": {
      "name": "Assignment 6.ipynb",
      "provenance": [],
      "collapsed_sections": [],
      "include_colab_link": true
    },
    "kernelspec": {
      "name": "python3",
      "display_name": "Python 3"
    },
    "language_info": {
      "name": "python"
    }
  },
  "cells": [
    {
      "cell_type": "markdown",
      "metadata": {
        "id": "view-in-github",
        "colab_type": "text"
      },
      "source": [
        "<a href=\"https://colab.research.google.com/github/96143/Assignment-6/blob/main/Assignment_6.ipynb\" target=\"_parent\"><img src=\"https://colab.research.google.com/assets/colab-badge.svg\" alt=\"Open In Colab\"/></a>"
      ]
    },
    {
      "cell_type": "code",
      "metadata": {
        "id": "vKgINIj_dm-6",
        "colab": {
          "base_uri": "https://localhost:8080/",
          "height": 520
        },
        "outputId": "e29bd51c-969e-4220-d093-b764232748d6"
      },
      "source": [
        "# Import libraries\n",
        "import numpy as np\n",
        "import matplotlib.pyplot as plt\n",
        "import seaborn as sns\n",
        "# Input variables\n",
        "# Number of trials\n",
        "trials = 1000\n",
        "# Number of independent experiments in each trial\n",
        "n = 6\n",
        "# Probability of success for each experiment\n",
        "p = 2/5\n",
        "# Function that runs our coin toss trials\n",
        "# Getting balls with mark X is a list of the number of successes from each trial of n experiments\n",
        "def run_binom(trials, n, p):\n",
        "    X_ = []\n",
        "    for i in range(trials):\n",
        "        draw = [np.random.random() for i in range(n)]\n",
        "        X_.append(len([i for i in draw if i>=0.50]))\n",
        "    return heads\n",
        "# Run the function\n",
        "X1 = run_binom(trials, n, p)\n",
        "# Plot the results as a histogram\n",
        "fig, ax = plt.subplots(figsize=(14,7))\n",
        "ax = sns.distplot(X1, bins=11, label='simulation results')\n",
        "ax.set_xlabel(\"Number of balls with mark X\",fontsize=16)\n",
        "ax.set_ylabel(\"Frequency\",fontsize=16)"
      ],
      "execution_count": null,
      "outputs": [
        {
          "output_type": "stream",
          "text": [
            "/usr/local/lib/python3.7/dist-packages/seaborn/distributions.py:2557: FutureWarning: `distplot` is a deprecated function and will be removed in a future version. Please adapt your code to use either `displot` (a figure-level function with similar flexibility) or `histplot` (an axes-level function for histograms).\n",
            "  warnings.warn(msg, FutureWarning)\n"
          ],
          "name": "stderr"
        },
        {
          "output_type": "execute_result",
          "data": {
            "text/plain": [
              "Text(0, 0.5, 'Frequency')"
            ]
          },
          "metadata": {
            "tags": []
          },
          "execution_count": 5
        },
        {
          "output_type": "display_data",
          "data": {
            "image/png": "[encoded data removed]",
            "text/plain": [
              "<Figure size 1008x504 with 1 Axes>"
            ]
          },
          "metadata": {
            "tags": [],
            "needs_background": "light"
          }
        }
      ]
    },
    {
      "cell_type": "code",
      "metadata": {
        "id": "9ZnSa5HBdo0N",
        "colab": {
          "base_uri": "https://localhost:8080/"
        },
        "outputId": "9bb5c8c3-6be1-48b2-f051-d860a50ac7b7"
      },
      "source": [
        "np.random.binomial(n, p)"
      ],
      "execution_count": null,
      "outputs": [
        {
          "output_type": "execute_result",
          "data": {
            "text/plain": [
              "2"
            ]
          },
          "metadata": {
            "tags": []
          },
          "execution_count": 7
        }
      ]
    },
    {
      "cell_type": "code",
      "metadata": {
        "id": "Ih7z9V2idzMi",
        "colab": {
          "base_uri": "https://localhost:8080/"
        },
        "outputId": "f88cb900-5c69-4d73-baa2-8b9dcacb3a77"
      },
      "source": [
        "# Probability of getting 6 balls with mark X\n",
        "runs = 10000\n",
        "prob_6 = sum([1 for i in np.random.binomial(n, p, size=runs) if i==6])/runs\n",
        "print('The probability of 6 balls with mark X is: ' + str(prob_6))"
      ],
      "execution_count": null,
      "outputs": [
        {
          "output_type": "stream",
          "text": [
            "The probability of 6 heads is: 0.0043\n"
          ],
          "name": "stdout"
        }
      ]
    },
    {
      "cell_type": "code",
      "metadata": {
        "id": "Kbdxv8FEdzDo",
        "colab": {
          "base_uri": "https://localhost:8080/"
        },
        "outputId": "b7f8ad5f-7c74-4cd1-e21e-53bb82604e1b"
      },
      "source": [
        "# Probability of getting 2 balls with mark Y\n",
        "runs = 10000\n",
        "prob_4 = sum([1 for i in np.random.binomial(n, p, size=runs) if i==4])/runs\n",
        "print('The probability of 2 balls with mark Y is: ' + str(prob_4))"
      ],
      "execution_count": null,
      "outputs": [
        {
          "output_type": "stream",
          "text": [
            "The probability of 6 heads is: 0.139\n"
          ],
          "name": "stdout"
        }
      ]
    },
    {
      "cell_type": "code",
      "metadata": {
        "id": "72u8MCFEdolJ",
        "colab": {
          "base_uri": "https://localhost:8080/"
        },
        "outputId": "538c5639-fe3c-4ac2-d2cc-f3b947b246e3"
      },
      "source": [
        "# Probability of getting at least one ball with mark Y\n",
        "runs = 10000\n",
        "prob_6 = sum([1 for i in np.random.binomial(n, p, size=runs) if i==6])/runs\n",
        "prob = 1 - prob_6\n",
        "print('The probability of at least one ball with mark Y is: ' + str(prob))"
      ],
      "execution_count": null,
      "outputs": [
        {
          "output_type": "stream",
          "text": [
            "The probability of 6 heads is: 0.9951\n"
          ],
          "name": "stdout"
        }
      ]
    },
    {
      "cell_type": "code",
      "metadata": {
        "colab": {
          "base_uri": "https://localhost:8080/"
        },
        "id": "0u4mnxpISJFn",
        "outputId": "c18c3812-f26d-4aac-dfc7-dd5becffde26"
      },
      "source": [
        "# Probability of getting 3 balls with mark X and 3 balls with mark Y\n",
        "runs = 10000\n",
        "prob_6 = sum([1 for i in np.random.binomial(n, p, size=runs) if i==3])/runs\n",
        "print('The probability of 3 balls with mark X and 3 balls with mark Y: ' + str(prob_6))"
      ],
      "execution_count": null,
      "outputs": [
        {
          "output_type": "stream",
          "text": [
            "The probability of 3 balls with mark X and 3 balls with mark Y: 0.2806\n"
          ],
          "name": "stdout"
        }
      ]
    }
  ]
}